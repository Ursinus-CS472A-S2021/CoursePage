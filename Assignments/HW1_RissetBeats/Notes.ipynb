{
 "cells": [
  {
   "cell_type": "markdown",
   "metadata": {},
   "source": [
    "(Amplitude 1) Sinusoid:\n",
    "\n",
    "$y(t) = \\cos(2 \\pi f t + \\phi) $"
   ]
  },
  {
   "cell_type": "markdown",
   "metadata": {},
   "source": [
    "Ex) \n",
    "\n",
    "$y(t) = \\cos(2 \\pi *330(t-2.5)) + \\cos(2 \\pi * 330.2(t-2.5)) $"
   ]
  },
  {
   "cell_type": "markdown",
   "metadata": {},
   "source": [
    "$f = 330$\n",
    "\n",
    "$\\phi = -2 \\pi * 330 * 2.5$"
   ]
  },
  {
   "cell_type": "markdown",
   "metadata": {},
   "source": [
    "$y(t) = \\cos(2\\pi * 330 t - 2 \\pi * 330* 2.5)$"
   ]
  },
  {
   "cell_type": "markdown",
   "metadata": {},
   "source": [
    "$ \\phi = 2 \\pi f s $\n",
    "\n",
    "$s$ is the offset, where the note happens"
   ]
  },
  {
   "cell_type": "code",
   "execution_count": null,
   "metadata": {},
   "outputs": [],
   "source": [
    "import numpy as np\n",
    "import matplotlib.pyplot as plt\n",
    "\n",
    "t = np.linspace(0, 10, 2000)\n",
    "# Ex) f(t) = cos(2pi * 3 (t-1)) + cos(2pi * 3(t-2)) + cos(2pi * 3*(t-5))\n",
    "\n",
    "y = np.cos(2*np.pi*3*(t-1))\n",
    "y += np.cos(2*np.pi*3*(t-2))\n",
    "y += np.cos(2*np.pi*3*(t-3))\n",
    "plt.plot(y)"
   ]
  },
  {
   "cell_type": "code",
   "execution_count": null,
   "metadata": {},
   "outputs": [],
   "source": []
  }
 ],
 "metadata": {
  "kernelspec": {
   "display_name": "Python 3",
   "language": "python",
   "name": "python3"
  },
  "language_info": {
   "codemirror_mode": {
    "name": "ipython",
    "version": 3
   },
   "file_extension": ".py",
   "mimetype": "text/x-python",
   "name": "python",
   "nbconvert_exporter": "python",
   "pygments_lexer": "ipython3",
   "version": "3.7.6"
  }
 },
 "nbformat": 4,
 "nbformat_minor": 4
}
